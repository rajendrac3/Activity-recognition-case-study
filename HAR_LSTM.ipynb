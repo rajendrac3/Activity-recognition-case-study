{
 "cells": [
  {
   "cell_type": "code",
   "execution_count": 1,
   "metadata": {
    "collapsed": true
   },
   "outputs": [],
   "source": [
    "# Importing Libraries"
   ]
  },
  {
   "cell_type": "code",
   "execution_count": 1,
   "metadata": {
    "collapsed": true
   },
   "outputs": [],
   "source": [
    "import pandas as pd\n",
    "import numpy as np"
   ]
  },
  {
   "cell_type": "code",
   "execution_count": 2,
   "metadata": {
    "collapsed": true
   },
   "outputs": [],
   "source": [
    "# Activities are the class labels\n",
    "# It is a 6 class classification\n",
    "ACTIVITIES = {\n",
    "    0: 'WALKING',\n",
    "    1: 'WALKING_UPSTAIRS',\n",
    "    2: 'WALKING_DOWNSTAIRS',\n",
    "    3: 'SITTING',\n",
    "    4: 'STANDING',\n",
    "    5: 'LAYING',\n",
    "}\n",
    "\n",
    "# Utility function to print the confusion matrix\n",
    "def confusion_matrix(Y_true, Y_pred):\n",
    "    Y_true = pd.Series([ACTIVITIES[y] for y in np.argmax(Y_true, axis=1)])\n",
    "    Y_pred = pd.Series([ACTIVITIES[y] for y in np.argmax(Y_pred, axis=1)])\n",
    "\n",
    "    return pd.crosstab(Y_true, Y_pred, rownames=['True'], colnames=['Pred'])"
   ]
  },
  {
   "cell_type": "markdown",
   "metadata": {},
   "source": [
    "### Data"
   ]
  },
  {
   "cell_type": "code",
   "execution_count": 3,
   "metadata": {
    "collapsed": true
   },
   "outputs": [],
   "source": [
    "# Data directory\n",
    "DATADIR = 'UCI_HAR_Dataset'"
   ]
  },
  {
   "cell_type": "code",
   "execution_count": 4,
   "metadata": {
    "collapsed": true
   },
   "outputs": [],
   "source": [
    "# Raw data signals\n",
    "# Signals are from Accelerometer and Gyroscope\n",
    "# The signals are in x,y,z directions\n",
    "# Sensor signals are filtered to have only body acceleration\n",
    "# excluding the acceleration due to gravity\n",
    "# Triaxial acceleration from the accelerometer is total acceleration\n",
    "SIGNALS = [\n",
    "    \"body_acc_x\",\n",
    "    \"body_acc_y\",\n",
    "    \"body_acc_z\",\n",
    "    \"body_gyro_x\",\n",
    "    \"body_gyro_y\",\n",
    "    \"body_gyro_z\",\n",
    "    \"total_acc_x\",\n",
    "    \"total_acc_y\",\n",
    "    \"total_acc_z\"\n",
    "]"
   ]
  },
  {
   "cell_type": "code",
   "execution_count": 29,
   "metadata": {
    "collapsed": false
   },
   "outputs": [],
   "source": [
    "# Utility function to read the data from csv file\n",
    "def _read_csv(filename):\n",
    "    return pd.read_csv(filename, delim_whitespace=True, header=None)\n",
    "\n",
    "# Utility function to load the load\n",
    "def load_signals(subset):\n",
    "    signals_data = []\n",
    "\n",
    "    for signal in SIGNALS:\n",
    "        filename = 'UCI_HAR_Dataset/'+subset+'/Inertial Signals/'+signal+'_'+subset+'.txt'\n",
    "        signals_data.append(\n",
    "            _read_csv(filename).as_matrix()\n",
    "        ) \n",
    "\n",
    "    # Transpose is used to change the dimensionality of the output,\n",
    "    # aggregating the signals by combination of sample/timestep.\n",
    "    # Resultant shape is (7352 train/2947 test samples, 128 timesteps, 9 signals)\n",
    "    return np.transpose(signals_data, (1, 2, 0))"
   ]
  },
  {
   "cell_type": "code",
   "execution_count": 20,
   "metadata": {
    "collapsed": false
   },
   "outputs": [],
   "source": [
    "\n",
    "def load_y(subset):\n",
    "    \"\"\"\n",
    "    The objective that we are trying to predict is a integer, from 1 to 6,\n",
    "    that represents a human activity. We return a binary representation of \n",
    "    every sample objective as a 6 bits vector using One Hot Encoding\n",
    "    (https://pandas.pydata.org/pandas-docs/stable/generated/pandas.get_dummies.html)\n",
    "    \"\"\"\n",
    "    filename = 'UCI_HAR_Dataset/'+subset+'/y_'+subset+'.txt'\n",
    "    y = _read_csv(filename)[0]\n",
    "\n",
    "    return pd.get_dummies(y).as_matrix()"
   ]
  },
  {
   "cell_type": "code",
   "execution_count": 21,
   "metadata": {
    "collapsed": true
   },
   "outputs": [],
   "source": [
    "def load_data():\n",
    "    \"\"\"\n",
    "    Obtain the dataset from multiple files.\n",
    "    Returns: X_train, X_test, y_train, y_test\n",
    "    \"\"\"\n",
    "    X_train, X_test = load_signals('train'), load_signals('test')\n",
    "    y_train, y_test = load_y('train'), load_y('test')\n",
    "\n",
    "    return X_train, X_test, y_train, y_test"
   ]
  },
  {
   "cell_type": "code",
   "execution_count": 22,
   "metadata": {
    "collapsed": true
   },
   "outputs": [],
   "source": [
    "# Importing tensorflow\n",
    "np.random.seed(42)\n",
    "import tensorflow as tf\n",
    "tf.set_random_seed(42)"
   ]
  },
  {
   "cell_type": "code",
   "execution_count": 23,
   "metadata": {
    "collapsed": true
   },
   "outputs": [],
   "source": [
    "# Configuring a session\n",
    "session_conf = tf.ConfigProto(\n",
    "    intra_op_parallelism_threads=1,\n",
    "    inter_op_parallelism_threads=1\n",
    ")"
   ]
  },
  {
   "cell_type": "code",
   "execution_count": 24,
   "metadata": {
    "collapsed": false
   },
   "outputs": [],
   "source": [
    "# Import Keras\n",
    "from keras import backend as K\n",
    "sess = tf.Session(graph=tf.get_default_graph(), config=session_conf)\n",
    "K.set_session(sess)"
   ]
  },
  {
   "cell_type": "code",
   "execution_count": 25,
   "metadata": {
    "collapsed": true
   },
   "outputs": [],
   "source": [
    "# Importing libraries\n",
    "from keras.models import Sequential\n",
    "from keras.layers import LSTM\n",
    "from keras.layers.core import Dense, Dropout"
   ]
  },
  {
   "cell_type": "code",
   "execution_count": 26,
   "metadata": {
    "collapsed": true
   },
   "outputs": [],
   "source": [
    "# Initializing parameters\n",
    "epochs = 30\n",
    "batch_size = 16\n",
    "n_hidden = 32"
   ]
  },
  {
   "cell_type": "code",
   "execution_count": 27,
   "metadata": {
    "collapsed": true
   },
   "outputs": [],
   "source": [
    "# Utility function to count the number of classes\n",
    "def _count_classes(y):\n",
    "    return len(set([tuple(category) for category in y]))"
   ]
  },
  {
   "cell_type": "code",
   "execution_count": 30,
   "metadata": {
    "collapsed": false
   },
   "outputs": [
    {
     "name": "stderr",
     "output_type": "stream",
     "text": [
      "C:\\Program Files\\Anaconda3\\lib\\site-packages\\ipykernel\\__main__.py:12: FutureWarning: Method .as_matrix will be removed in a future version. Use .values instead.\n"
     ]
    }
   ],
   "source": [
    "# Loading the train and test data\n",
    "X_train, X_test, Y_train, Y_test = load_data()"
   ]
  },
  {
   "cell_type": "code",
   "execution_count": 31,
   "metadata": {
    "collapsed": false
   },
   "outputs": [
    {
     "name": "stdout",
     "output_type": "stream",
     "text": [
      "128\n",
      "9\n",
      "7352\n"
     ]
    }
   ],
   "source": [
    "timesteps = len(X_train[0])\n",
    "input_dim = len(X_train[0][0])\n",
    "n_classes = _count_classes(Y_train)\n",
    "\n",
    "print(timesteps)\n",
    "print(input_dim)\n",
    "print(len(X_train))"
   ]
  },
  {
   "cell_type": "markdown",
   "metadata": {},
   "source": [
    "- Defining the Architecture of LSTM"
   ]
  },
  {
   "cell_type": "code",
   "execution_count": 32,
   "metadata": {
    "collapsed": false
   },
   "outputs": [
    {
     "name": "stdout",
     "output_type": "stream",
     "text": [
      "WARNING:tensorflow:From C:\\Program Files\\Anaconda3\\lib\\site-packages\\tensorflow\\python\\framework\\op_def_library.py:263: colocate_with (from tensorflow.python.framework.ops) is deprecated and will be removed in a future version.\n",
      "Instructions for updating:\n",
      "Colocations handled automatically by placer.\n",
      "WARNING:tensorflow:From C:\\Program Files\\Anaconda3\\lib\\site-packages\\keras\\backend\\tensorflow_backend.py:3445: calling dropout (from tensorflow.python.ops.nn_ops) with keep_prob is deprecated and will be removed in a future version.\n",
      "Instructions for updating:\n",
      "Please use `rate` instead of `keep_prob`. Rate should be set to `rate = 1 - keep_prob`.\n",
      "_________________________________________________________________\n",
      "Layer (type)                 Output Shape              Param #   \n",
      "=================================================================\n",
      "lstm_1 (LSTM)                (None, 32)                5376      \n",
      "_________________________________________________________________\n",
      "dropout_1 (Dropout)          (None, 32)                0         \n",
      "_________________________________________________________________\n",
      "dense_1 (Dense)              (None, 6)                 198       \n",
      "=================================================================\n",
      "Total params: 5,574\n",
      "Trainable params: 5,574\n",
      "Non-trainable params: 0\n",
      "_________________________________________________________________\n"
     ]
    }
   ],
   "source": [
    "# Initiliazing the sequential model\n",
    "model = Sequential()\n",
    "# Configuring the parameters\n",
    "model.add(LSTM(n_hidden, input_shape=(timesteps, input_dim)))\n",
    "# Adding a dropout layer\n",
    "model.add(Dropout(0.5))\n",
    "# Adding a dense output layer with sigmoid activation\n",
    "model.add(Dense(n_classes, activation='sigmoid'))\n",
    "model.summary()"
   ]
  },
  {
   "cell_type": "code",
   "execution_count": 33,
   "metadata": {
    "collapsed": true
   },
   "outputs": [],
   "source": [
    "# Compiling the model\n",
    "model.compile(loss='categorical_crossentropy',\n",
    "              optimizer='rmsprop',\n",
    "              metrics=['accuracy'])"
   ]
  },
  {
   "cell_type": "code",
   "execution_count": 34,
   "metadata": {
    "collapsed": false
   },
   "outputs": [
    {
     "name": "stdout",
     "output_type": "stream",
     "text": [
      "WARNING:tensorflow:From C:\\Program Files\\Anaconda3\\lib\\site-packages\\tensorflow\\python\\ops\\math_ops.py:3066: to_int32 (from tensorflow.python.ops.math_ops) is deprecated and will be removed in a future version.\n",
      "Instructions for updating:\n",
      "Use tf.cast instead.\n",
      "Train on 7352 samples, validate on 2947 samples\n",
      "Epoch 1/30\n",
      "7352/7352 [==============================] - 46s 6ms/step - loss: 1.3306 - acc: 0.4361 - val_loss: 1.1743 - val_acc: 0.4723\n",
      "Epoch 2/30\n",
      "7352/7352 [==============================] - 43s 6ms/step - loss: 0.9716 - acc: 0.5788 - val_loss: 0.9656 - val_acc: 0.5263\n",
      "Epoch 3/30\n",
      "7352/7352 [==============================] - 43s 6ms/step - loss: 0.7787 - acc: 0.6510 - val_loss: 0.7841 - val_acc: 0.6135\n",
      "Epoch 4/30\n",
      "7352/7352 [==============================] - 44s 6ms/step - loss: 0.6911 - acc: 0.6587 - val_loss: 0.7109 - val_acc: 0.6203\n",
      "Epoch 5/30\n",
      "7352/7352 [==============================] - 46s 6ms/step - loss: 0.6496 - acc: 0.6794 - val_loss: 0.8000 - val_acc: 0.6362\n",
      "Epoch 6/30\n",
      "7352/7352 [==============================] - 47s 6ms/step - loss: 0.8295 - acc: 0.6221 - val_loss: 0.7970 - val_acc: 0.6318\n",
      "Epoch 7/30\n",
      "7352/7352 [==============================] - 46s 6ms/step - loss: 0.5920 - acc: 0.7122 - val_loss: 0.6816 - val_acc: 0.7038\n",
      "Epoch 8/30\n",
      "7352/7352 [==============================] - 47s 6ms/step - loss: 0.5472 - acc: 0.7594 - val_loss: 0.6473 - val_acc: 0.7258\n",
      "Epoch 9/30\n",
      "7352/7352 [==============================] - 47s 6ms/step - loss: 0.4838 - acc: 0.7805 - val_loss: 0.6033 - val_acc: 0.7445\n",
      "Epoch 10/30\n",
      "7352/7352 [==============================] - 49s 7ms/step - loss: 0.4212 - acc: 0.7907 - val_loss: 0.5396 - val_acc: 0.7472\n",
      "Epoch 11/30\n",
      "7352/7352 [==============================] - 49s 7ms/step - loss: 0.3967 - acc: 0.8084 - val_loss: 0.5399 - val_acc: 0.7526\n",
      "Epoch 12/30\n",
      "7352/7352 [==============================] - 48s 7ms/step - loss: 0.3609 - acc: 0.8407 - val_loss: 0.5420 - val_acc: 0.8222\n",
      "Epoch 13/30\n",
      "7352/7352 [==============================] - 49s 7ms/step - loss: 0.3312 - acc: 0.8798 - val_loss: 0.5038 - val_acc: 0.8673\n",
      "Epoch 14/30\n",
      "7352/7352 [==============================] - 48s 7ms/step - loss: 0.3000 - acc: 0.9053 - val_loss: 0.4823 - val_acc: 0.8758\n",
      "Epoch 15/30\n",
      "7352/7352 [==============================] - 41s 6ms/step - loss: 0.2574 - acc: 0.9230 - val_loss: 0.5465 - val_acc: 0.8731\n",
      "Epoch 16/30\n",
      "7352/7352 [==============================] - 53s 7ms/step - loss: 0.2383 - acc: 0.9293 - val_loss: 0.5054 - val_acc: 0.8694\n",
      "Epoch 17/30\n",
      "7352/7352 [==============================] - 53s 7ms/step - loss: 0.2271 - acc: 0.9313 - val_loss: 0.5409 - val_acc: 0.8653\n",
      "Epoch 18/30\n",
      "7352/7352 [==============================] - 54s 7ms/step - loss: 0.2121 - acc: 0.9353 - val_loss: 0.5611 - val_acc: 0.8677\n",
      "Epoch 19/30\n",
      "7352/7352 [==============================] - 55s 8ms/step - loss: 0.2129 - acc: 0.9355 - val_loss: 0.5293 - val_acc: 0.8887\n",
      "Epoch 20/30\n",
      "7352/7352 [==============================] - 52s 7ms/step - loss: 0.1825 - acc: 0.9425 - val_loss: 0.4945 - val_acc: 0.8656\n",
      "Epoch 21/30\n",
      "7352/7352 [==============================] - 49s 7ms/step - loss: 0.1857 - acc: 0.9400 - val_loss: 0.4470 - val_acc: 0.8836\n",
      "Epoch 22/30\n",
      "7352/7352 [==============================] - 48s 7ms/step - loss: 0.1827 - acc: 0.9445 - val_loss: 0.7009 - val_acc: 0.8517\n",
      "Epoch 23/30\n",
      "7352/7352 [==============================] - 43s 6ms/step - loss: 0.1909 - acc: 0.9391 - val_loss: 0.5290 - val_acc: 0.8884\n",
      "Epoch 24/30\n",
      "7352/7352 [==============================] - 40s 5ms/step - loss: 0.1925 - acc: 0.9399 - val_loss: 0.6053 - val_acc: 0.8812\n",
      "Epoch 25/30\n",
      "7352/7352 [==============================] - 41s 6ms/step - loss: 0.1821 - acc: 0.9440 - val_loss: 0.4675 - val_acc: 0.8765\n",
      "Epoch 26/30\n",
      "7352/7352 [==============================] - 41s 6ms/step - loss: 0.1773 - acc: 0.9448 - val_loss: 0.5316 - val_acc: 0.8826\n",
      "Epoch 27/30\n",
      "7352/7352 [==============================] - 41s 6ms/step - loss: 0.1817 - acc: 0.9406 - val_loss: 0.5282 - val_acc: 0.8843\n",
      "Epoch 28/30\n",
      "7352/7352 [==============================] - 40s 6ms/step - loss: 0.1966 - acc: 0.9402 - val_loss: 0.5390 - val_acc: 0.8931\n",
      "Epoch 29/30\n",
      "7352/7352 [==============================] - 41s 6ms/step - loss: 0.2257 - acc: 0.9291 - val_loss: 0.4739 - val_acc: 0.8948\n",
      "Epoch 30/30\n",
      "7352/7352 [==============================] - 41s 6ms/step - loss: 0.1745 - acc: 0.9442 - val_loss: 0.4692 - val_acc: 0.8806\n"
     ]
    },
    {
     "data": {
      "text/plain": [
       "<keras.callbacks.History at 0x2460a9295f8>"
      ]
     },
     "execution_count": 34,
     "metadata": {},
     "output_type": "execute_result"
    }
   ],
   "source": [
    "# Training the model\n",
    "model.fit(X_train,\n",
    "          Y_train,\n",
    "          batch_size=batch_size,\n",
    "          validation_data=(X_test, Y_test),\n",
    "          epochs=epochs)"
   ]
  },
  {
   "cell_type": "code",
   "execution_count": 35,
   "metadata": {
    "collapsed": false
   },
   "outputs": [
    {
     "name": "stdout",
     "output_type": "stream",
     "text": [
      "Pred                LAYING  SITTING  STANDING  WALKING  WALKING_DOWNSTAIRS  \\\n",
      "True                                                                         \n",
      "LAYING                 510        0         0        0                   0   \n",
      "SITTING                  0      398        66        0                   0   \n",
      "STANDING                 0      100       418        2                   0   \n",
      "WALKING                  0        3         0      465                   8   \n",
      "WALKING_DOWNSTAIRS       0        0         0        0                 360   \n",
      "WALKING_UPSTAIRS         0        3         0       23                   1   \n",
      "\n",
      "Pred                WALKING_UPSTAIRS  \n",
      "True                                  \n",
      "LAYING                            27  \n",
      "SITTING                           27  \n",
      "STANDING                          12  \n",
      "WALKING                           20  \n",
      "WALKING_DOWNSTAIRS                60  \n",
      "WALKING_UPSTAIRS                 444  \n"
     ]
    }
   ],
   "source": [
    "# Confusion Matrix\n",
    "print(confusion_matrix(Y_test, model.predict(X_test)))"
   ]
  },
  {
   "cell_type": "code",
   "execution_count": 36,
   "metadata": {
    "collapsed": false
   },
   "outputs": [
    {
     "name": "stdout",
     "output_type": "stream",
     "text": [
      "2947/2947 [==============================] - 2s 526us/step\n"
     ]
    }
   ],
   "source": [
    "score = model.evaluate(X_test, Y_test)"
   ]
  },
  {
   "cell_type": "code",
   "execution_count": 37,
   "metadata": {
    "collapsed": false
   },
   "outputs": [
    {
     "data": {
      "text/plain": [
       "[0.4692274864947224, 0.8805564981336953]"
      ]
     },
     "execution_count": 37,
     "metadata": {},
     "output_type": "execute_result"
    }
   ],
   "source": [
    "score"
   ]
  },
  {
   "cell_type": "markdown",
   "metadata": {},
   "source": [
    "- With a simple 2 layer architecture we got 90.09% accuracy and a loss of 0.30\n",
    "- We can further imporve the performace with Hyperparameter tuning"
   ]
  },
  {
   "cell_type": "code",
   "execution_count": 38,
   "metadata": {
    "collapsed": true
   },
   "outputs": [],
   "source": [
    "# Initializing parameters\n",
    "epochs = 30\n",
    "batch_size = 16\n",
    "n_hidden = 64"
   ]
  },
  {
   "cell_type": "code",
   "execution_count": 39,
   "metadata": {
    "collapsed": false
   },
   "outputs": [
    {
     "name": "stdout",
     "output_type": "stream",
     "text": [
      "_________________________________________________________________\n",
      "Layer (type)                 Output Shape              Param #   \n",
      "=================================================================\n",
      "lstm_2 (LSTM)                (None, 64)                18944     \n",
      "_________________________________________________________________\n",
      "dropout_2 (Dropout)          (None, 64)                0         \n",
      "_________________________________________________________________\n",
      "dense_2 (Dense)              (None, 6)                 390       \n",
      "=================================================================\n",
      "Total params: 19,334\n",
      "Trainable params: 19,334\n",
      "Non-trainable params: 0\n",
      "_________________________________________________________________\n"
     ]
    }
   ],
   "source": [
    "# Initiliazing the sequential model\n",
    "model = Sequential()\n",
    "# Configuring the parameters\n",
    "model.add(LSTM(n_hidden, input_shape=(timesteps, input_dim)))\n",
    "# Adding a dropout layer\n",
    "model.add(Dropout(0.5))\n",
    "# Adding a dense output layer with sigmoid activation\n",
    "model.add(Dense(n_classes, activation='sigmoid'))\n",
    "model.summary()"
   ]
  },
  {
   "cell_type": "code",
   "execution_count": 40,
   "metadata": {
    "collapsed": true
   },
   "outputs": [],
   "source": [
    "# Compiling the model\n",
    "model.compile(loss='categorical_crossentropy',\n",
    "              optimizer='rmsprop',\n",
    "              metrics=['accuracy'])"
   ]
  },
  {
   "cell_type": "code",
   "execution_count": 41,
   "metadata": {
    "collapsed": false
   },
   "outputs": [
    {
     "name": "stdout",
     "output_type": "stream",
     "text": [
      "Train on 7352 samples, validate on 2947 samples\n",
      "Epoch 1/30\n",
      "7352/7352 [==============================] - 53s 7ms/step - loss: 1.2776 - acc: 0.4241 - val_loss: 1.2997 - val_acc: 0.4432\n",
      "Epoch 2/30\n",
      "7352/7352 [==============================] - 53s 7ms/step - loss: 1.0893 - acc: 0.5087 - val_loss: 1.3274 - val_acc: 0.4669\n",
      "Epoch 3/30\n",
      "7352/7352 [==============================] - 53s 7ms/step - loss: 0.8866 - acc: 0.6197 - val_loss: 0.7990 - val_acc: 0.6535\n",
      "Epoch 4/30\n",
      "7352/7352 [==============================] - 54s 7ms/step - loss: 0.7111 - acc: 0.6983 - val_loss: 0.7417 - val_acc: 0.6810\n",
      "Epoch 5/30\n",
      "7352/7352 [==============================] - 53s 7ms/step - loss: 0.5629 - acc: 0.7665 - val_loss: 0.6835 - val_acc: 0.7255\n",
      "Epoch 6/30\n",
      "7352/7352 [==============================] - 54s 7ms/step - loss: 0.5324 - acc: 0.8006 - val_loss: 0.6378 - val_acc: 0.7944\n",
      "Epoch 7/30\n",
      "7352/7352 [==============================] - 55s 8ms/step - loss: 0.3949 - acc: 0.8708 - val_loss: 0.5324 - val_acc: 0.8303\n",
      "Epoch 8/30\n",
      "7352/7352 [==============================] - 55s 7ms/step - loss: 0.2799 - acc: 0.9091 - val_loss: 0.4642 - val_acc: 0.8717\n",
      "Epoch 9/30\n",
      "7352/7352 [==============================] - 55s 8ms/step - loss: 0.2434 - acc: 0.9180 - val_loss: 0.4285 - val_acc: 0.8670\n",
      "Epoch 10/30\n",
      "7352/7352 [==============================] - 57s 8ms/step - loss: 0.2369 - acc: 0.9232 - val_loss: 0.6642 - val_acc: 0.8551\n",
      "Epoch 11/30\n",
      "7352/7352 [==============================] - 59s 8ms/step - loss: 0.2142 - acc: 0.9234 - val_loss: 0.4451 - val_acc: 0.8819\n",
      "Epoch 12/30\n",
      "7352/7352 [==============================] - 59s 8ms/step - loss: 0.1992 - acc: 0.9280 - val_loss: 0.5138 - val_acc: 0.8697\n",
      "Epoch 13/30\n",
      "7352/7352 [==============================] - 59s 8ms/step - loss: 0.1819 - acc: 0.9404 - val_loss: 0.3061 - val_acc: 0.8948\n",
      "Epoch 14/30\n",
      "7352/7352 [==============================] - 56s 8ms/step - loss: 0.1596 - acc: 0.9411 - val_loss: 0.4799 - val_acc: 0.8707\n",
      "Epoch 15/30\n",
      "7352/7352 [==============================] - 60s 8ms/step - loss: 0.1820 - acc: 0.9348 - val_loss: 0.3643 - val_acc: 0.8982\n",
      "Epoch 16/30\n",
      "7352/7352 [==============================] - 60s 8ms/step - loss: 0.1794 - acc: 0.9381 - val_loss: 0.4166 - val_acc: 0.9006\n",
      "Epoch 17/30\n",
      "7352/7352 [==============================] - 66s 9ms/step - loss: 0.1511 - acc: 0.9437 - val_loss: 0.5058 - val_acc: 0.8890\n",
      "Epoch 18/30\n",
      "7352/7352 [==============================] - 61s 8ms/step - loss: 0.1583 - acc: 0.9463 - val_loss: 0.4778 - val_acc: 0.8904\n",
      "Epoch 19/30\n",
      "7352/7352 [==============================] - 62s 8ms/step - loss: 0.1575 - acc: 0.9449 - val_loss: 0.5783 - val_acc: 0.9019\n",
      "Epoch 20/30\n",
      "7352/7352 [==============================] - 36433s 5s/step - loss: 0.1519 - acc: 0.9444 - val_loss: 0.5230 - val_acc: 0.8911\n",
      "Epoch 21/30\n",
      "7352/7352 [==============================] - 57s 8ms/step - loss: 0.1457 - acc: 0.9471 - val_loss: 0.5951 - val_acc: 0.8812\n",
      "Epoch 22/30\n",
      "7352/7352 [==============================] - 53s 7ms/step - loss: 0.1613 - acc: 0.9478 - val_loss: 0.3478 - val_acc: 0.9138\n",
      "Epoch 23/30\n",
      "7352/7352 [==============================] - 48s 7ms/step - loss: 0.1431 - acc: 0.9483 - val_loss: 0.3125 - val_acc: 0.9050\n",
      "Epoch 24/30\n",
      "7352/7352 [==============================] - 53s 7ms/step - loss: 0.1278 - acc: 0.9497 - val_loss: 0.7632 - val_acc: 0.8785\n",
      "Epoch 25/30\n",
      "7352/7352 [==============================] - 51s 7ms/step - loss: 0.1765 - acc: 0.9487 - val_loss: 0.8021 - val_acc: 0.8792\n",
      "Epoch 26/30\n",
      "7352/7352 [==============================] - 50s 7ms/step - loss: 0.1571 - acc: 0.9491 - val_loss: 0.5524 - val_acc: 0.9006\n",
      "Epoch 27/30\n",
      "7352/7352 [==============================] - 48s 7ms/step - loss: 0.1412 - acc: 0.9486 - val_loss: 0.6479 - val_acc: 0.9077\n",
      "Epoch 28/30\n",
      "7352/7352 [==============================] - 49s 7ms/step - loss: 0.1279 - acc: 0.9510 - val_loss: 0.5445 - val_acc: 0.9040\n",
      "Epoch 29/30\n",
      "7352/7352 [==============================] - 48s 7ms/step - loss: 0.1508 - acc: 0.9448 - val_loss: 0.6499 - val_acc: 0.8992\n",
      "Epoch 30/30\n",
      "7352/7352 [==============================] - 50s 7ms/step - loss: 0.1388 - acc: 0.9517 - val_loss: 0.6057 - val_acc: 0.9138\n"
     ]
    },
    {
     "data": {
      "text/plain": [
       "<keras.callbacks.History at 0x2460e2e7ac8>"
      ]
     },
     "execution_count": 41,
     "metadata": {},
     "output_type": "execute_result"
    }
   ],
   "source": [
    "# Training the model\n",
    "model.fit(X_train,\n",
    "          Y_train,\n",
    "          batch_size=batch_size,\n",
    "          validation_data=(X_test, Y_test),\n",
    "          epochs=epochs)"
   ]
  },
  {
   "cell_type": "code",
   "execution_count": 42,
   "metadata": {
    "collapsed": false
   },
   "outputs": [
    {
     "name": "stdout",
     "output_type": "stream",
     "text": [
      "Pred                LAYING  SITTING  STANDING  WALKING  WALKING_DOWNSTAIRS  \\\n",
      "True                                                                         \n",
      "LAYING                 510        0         0        0                   0   \n",
      "SITTING                  0      371       101        0                   1   \n",
      "STANDING                 0       55       477        0                   0   \n",
      "WALKING                  0        0         0      453                  30   \n",
      "WALKING_DOWNSTAIRS       0        0         0        1                 418   \n",
      "WALKING_UPSTAIRS         0        0         0        0                   7   \n",
      "\n",
      "Pred                WALKING_UPSTAIRS  \n",
      "True                                  \n",
      "LAYING                            27  \n",
      "SITTING                           18  \n",
      "STANDING                           0  \n",
      "WALKING                           13  \n",
      "WALKING_DOWNSTAIRS                 1  \n",
      "WALKING_UPSTAIRS                 464  \n"
     ]
    }
   ],
   "source": [
    "# Confusion Matrix\n",
    "print(confusion_matrix(Y_test, model.predict(X_test)))"
   ]
  },
  {
   "cell_type": "code",
   "execution_count": 43,
   "metadata": {
    "collapsed": false
   },
   "outputs": [
    {
     "name": "stdout",
     "output_type": "stream",
     "text": [
      "2947/2947 [==============================] - 2s 765us/step\n"
     ]
    }
   ],
   "source": [
    "score = model.evaluate(X_test, Y_test)"
   ]
  },
  {
   "cell_type": "code",
   "execution_count": 44,
   "metadata": {
    "collapsed": false
   },
   "outputs": [
    {
     "data": {
      "text/plain": [
       "[0.6057351109406184, 0.9138106549032915]"
      ]
     },
     "execution_count": 44,
     "metadata": {},
     "output_type": "execute_result"
    }
   ],
   "source": [
    "score"
   ]
  },
  {
   "cell_type": "markdown",
   "metadata": {},
   "source": [
    "# LSTM layer with droput rate = 0.3"
   ]
  },
  {
   "cell_type": "code",
   "execution_count": 51,
   "metadata": {
    "collapsed": true
   },
   "outputs": [],
   "source": [
    "# Initializing parameters\n",
    "epochs = 30\n",
    "batch_size = 16\n",
    "n_hidden = 64"
   ]
  },
  {
   "cell_type": "code",
   "execution_count": 52,
   "metadata": {
    "collapsed": false
   },
   "outputs": [
    {
     "name": "stdout",
     "output_type": "stream",
     "text": [
      "_________________________________________________________________\n",
      "Layer (type)                 Output Shape              Param #   \n",
      "=================================================================\n",
      "lstm_4 (LSTM)                (None, 64)                18944     \n",
      "_________________________________________________________________\n",
      "dropout_4 (Dropout)          (None, 64)                0         \n",
      "_________________________________________________________________\n",
      "dense_4 (Dense)              (None, 6)                 390       \n",
      "=================================================================\n",
      "Total params: 19,334\n",
      "Trainable params: 19,334\n",
      "Non-trainable params: 0\n",
      "_________________________________________________________________\n"
     ]
    }
   ],
   "source": [
    "# Initiliazing the sequential model\n",
    "model = Sequential()\n",
    "# Configuring the parameters\n",
    "model.add(LSTM(n_hidden, input_shape=(timesteps, input_dim)))\n",
    "# Adding a dropout layer\n",
    "model.add(Dropout(0.3))\n",
    "# Adding a dense output layer with sigmoid activation\n",
    "model.add(Dense(n_classes, activation='sigmoid'))\n",
    "model.summary()"
   ]
  },
  {
   "cell_type": "code",
   "execution_count": 53,
   "metadata": {
    "collapsed": true
   },
   "outputs": [],
   "source": [
    "# Compiling the model\n",
    "model.compile(loss='categorical_crossentropy',\n",
    "              optimizer='rmsprop',\n",
    "              metrics=['accuracy'])"
   ]
  },
  {
   "cell_type": "code",
   "execution_count": 54,
   "metadata": {
    "collapsed": false,
    "scrolled": true
   },
   "outputs": [
    {
     "name": "stdout",
     "output_type": "stream",
     "text": [
      "Train on 7352 samples, validate on 2947 samples\n",
      "Epoch 1/30\n",
      "7352/7352 [==============================] - 49s 7ms/step - loss: 1.2948 - acc: 0.4331 - val_loss: 1.0448 - val_acc: 0.5436\n",
      "Epoch 2/30\n",
      "7352/7352 [==============================] - 48s 7ms/step - loss: 0.8782 - acc: 0.6260 - val_loss: 0.8597 - val_acc: 0.6675\n",
      "Epoch 3/30\n",
      "7352/7352 [==============================] - 50s 7ms/step - loss: 0.6893 - acc: 0.7145 - val_loss: 0.5970 - val_acc: 0.7516\n",
      "Epoch 4/30\n",
      "7352/7352 [==============================] - 50s 7ms/step - loss: 0.5735 - acc: 0.7767 - val_loss: 0.6821 - val_acc: 0.7686\n",
      "Epoch 5/30\n",
      "7352/7352 [==============================] - 50s 7ms/step - loss: 0.4630 - acc: 0.8445 - val_loss: 0.6195 - val_acc: 0.7635\n",
      "Epoch 6/30\n",
      "7352/7352 [==============================] - 51s 7ms/step - loss: 0.3291 - acc: 0.8924 - val_loss: 0.5421 - val_acc: 0.8341\n",
      "Epoch 7/30\n",
      "7352/7352 [==============================] - 51s 7ms/step - loss: 0.2729 - acc: 0.9129 - val_loss: 0.5773 - val_acc: 0.8381\n",
      "Epoch 8/30\n",
      "7352/7352 [==============================] - 52s 7ms/step - loss: 0.2258 - acc: 0.9236 - val_loss: 0.4061 - val_acc: 0.8775\n",
      "Epoch 9/30\n",
      "7352/7352 [==============================] - 52s 7ms/step - loss: 0.2190 - acc: 0.9251 - val_loss: 0.3400 - val_acc: 0.8799\n",
      "Epoch 10/30\n",
      "7352/7352 [==============================] - 55s 7ms/step - loss: 0.1970 - acc: 0.9319 - val_loss: 0.4176 - val_acc: 0.8782\n",
      "Epoch 11/30\n",
      "7352/7352 [==============================] - 54s 7ms/step - loss: 0.1761 - acc: 0.9392 - val_loss: 0.4321 - val_acc: 0.8687\n",
      "Epoch 12/30\n",
      "7352/7352 [==============================] - 55s 8ms/step - loss: 0.1706 - acc: 0.9400 - val_loss: 0.4439 - val_acc: 0.8887\n",
      "Epoch 13/30\n",
      "7352/7352 [==============================] - 56s 8ms/step - loss: 0.1582 - acc: 0.9412 - val_loss: 0.6641 - val_acc: 0.8137\n",
      "Epoch 14/30\n",
      "7352/7352 [==============================] - 54s 7ms/step - loss: 0.1670 - acc: 0.9369 - val_loss: 0.3958 - val_acc: 0.8955\n",
      "Epoch 15/30\n",
      "7352/7352 [==============================] - 54s 7ms/step - loss: 0.1481 - acc: 0.9430 - val_loss: 0.5465 - val_acc: 0.8599\n",
      "Epoch 16/30\n",
      "7352/7352 [==============================] - 56s 8ms/step - loss: 0.1498 - acc: 0.9457 - val_loss: 0.5006 - val_acc: 0.8931\n",
      "Epoch 17/30\n",
      "7352/7352 [==============================] - 56s 8ms/step - loss: 0.1405 - acc: 0.9450 - val_loss: 0.3751 - val_acc: 0.8938\n",
      "Epoch 18/30\n",
      "7352/7352 [==============================] - 57s 8ms/step - loss: 0.1346 - acc: 0.9487 - val_loss: 0.4956 - val_acc: 0.8955\n",
      "Epoch 19/30\n",
      "7352/7352 [==============================] - 55s 8ms/step - loss: 0.1482 - acc: 0.9434 - val_loss: 0.4725 - val_acc: 0.8751\n",
      "Epoch 20/30\n",
      "7352/7352 [==============================] - 57s 8ms/step - loss: 0.1306 - acc: 0.9498 - val_loss: 0.4841 - val_acc: 0.8965\n",
      "Epoch 21/30\n",
      "7352/7352 [==============================] - 58s 8ms/step - loss: 0.1547 - acc: 0.9441 - val_loss: 0.3659 - val_acc: 0.8996\n",
      "Epoch 22/30\n",
      "7352/7352 [==============================] - 58s 8ms/step - loss: 0.1251 - acc: 0.9502 - val_loss: 0.4529 - val_acc: 0.9033\n",
      "Epoch 23/30\n",
      "7352/7352 [==============================] - 60s 8ms/step - loss: 0.1377 - acc: 0.9461 - val_loss: 0.4041 - val_acc: 0.9006\n",
      "Epoch 24/30\n",
      "7352/7352 [==============================] - 62s 8ms/step - loss: 0.1387 - acc: 0.9497 - val_loss: 0.6739 - val_acc: 0.8860\n",
      "Epoch 25/30\n",
      "7352/7352 [==============================] - 66s 9ms/step - loss: 0.1486 - acc: 0.9446 - val_loss: 0.4847 - val_acc: 0.9036\n",
      "Epoch 26/30\n",
      "7352/7352 [==============================] - 53s 7ms/step - loss: 0.1317 - acc: 0.9471 - val_loss: 0.5018 - val_acc: 0.8850\n",
      "Epoch 27/30\n",
      "7352/7352 [==============================] - 66s 9ms/step - loss: 0.1372 - acc: 0.9468 - val_loss: 0.4359 - val_acc: 0.9036\n",
      "Epoch 28/30\n",
      "7352/7352 [==============================] - 70s 10ms/step - loss: 0.1351 - acc: 0.9506 - val_loss: 0.4027 - val_acc: 0.9036\n",
      "Epoch 29/30\n",
      "7352/7352 [==============================] - 53s 7ms/step - loss: 0.1355 - acc: 0.9518 - val_loss: 0.3917 - val_acc: 0.9074\n",
      "Epoch 30/30\n",
      "7352/7352 [==============================] - 60s 8ms/step - loss: 0.1119 - acc: 0.9524 - val_loss: 0.3725 - val_acc: 0.9084\n"
     ]
    },
    {
     "data": {
      "text/plain": [
       "<keras.callbacks.History at 0x24618105320>"
      ]
     },
     "execution_count": 54,
     "metadata": {},
     "output_type": "execute_result"
    }
   ],
   "source": [
    "# Training the model\n",
    "model.fit(X_train,\n",
    "          Y_train,\n",
    "          batch_size=batch_size,\n",
    "          validation_data=(X_test, Y_test),\n",
    "          epochs=epochs)"
   ]
  },
  {
   "cell_type": "code",
   "execution_count": 55,
   "metadata": {
    "collapsed": false
   },
   "outputs": [
    {
     "name": "stdout",
     "output_type": "stream",
     "text": [
      "Pred                LAYING  SITTING  STANDING  WALKING  WALKING_DOWNSTAIRS  \\\n",
      "True                                                                         \n",
      "LAYING                 536        0         0        0                   0   \n",
      "SITTING                  8      435        48        0                   0   \n",
      "STANDING                 0      149       383        0                   0   \n",
      "WALKING                  0        0         0      459                  24   \n",
      "WALKING_DOWNSTAIRS       0        0         0        0                 417   \n",
      "WALKING_UPSTAIRS         0        1         0       14                   9   \n",
      "\n",
      "Pred                WALKING_UPSTAIRS  \n",
      "True                                  \n",
      "LAYING                             1  \n",
      "SITTING                            0  \n",
      "STANDING                           0  \n",
      "WALKING                           13  \n",
      "WALKING_DOWNSTAIRS                 3  \n",
      "WALKING_UPSTAIRS                 447  \n"
     ]
    }
   ],
   "source": [
    "# Confusion Matrix\n",
    "print(confusion_matrix(Y_test, model.predict(X_test)))"
   ]
  },
  {
   "cell_type": "code",
   "execution_count": 56,
   "metadata": {
    "collapsed": false
   },
   "outputs": [
    {
     "name": "stdout",
     "output_type": "stream",
     "text": [
      "2947/2947 [==============================] - 3s 928us/step\n"
     ]
    }
   ],
   "source": [
    "score = model.evaluate(X_test, Y_test)"
   ]
  },
  {
   "cell_type": "code",
   "execution_count": 57,
   "metadata": {
    "collapsed": false
   },
   "outputs": [
    {
     "data": {
      "text/plain": [
       "[0.3724719570703537, 0.9083814048184594]"
      ]
     },
     "execution_count": 57,
     "metadata": {},
     "output_type": "execute_result"
    }
   ],
   "source": [
    "score"
   ]
  },
  {
   "cell_type": "markdown",
   "metadata": {
    "collapsed": true
   },
   "source": [
    "# 2 LSTM layers with dropouts (rate = 0.3)"
   ]
  },
  {
   "cell_type": "code",
   "execution_count": 58,
   "metadata": {
    "collapsed": true
   },
   "outputs": [],
   "source": [
    "# Initializing parameters\n",
    "epochs = 30\n",
    "batch_size = 16\n",
    "n_hidden = 32"
   ]
  },
  {
   "cell_type": "code",
   "execution_count": 66,
   "metadata": {
    "collapsed": false
   },
   "outputs": [
    {
     "name": "stdout",
     "output_type": "stream",
     "text": [
      "_________________________________________________________________\n",
      "Layer (type)                 Output Shape              Param #   \n",
      "=================================================================\n",
      "lstm_15 (LSTM)               (None, 128, 32)           5376      \n",
      "_________________________________________________________________\n",
      "dropout_11 (Dropout)         (None, 128, 32)           0         \n",
      "_________________________________________________________________\n",
      "lstm_16 (LSTM)               (None, 64)                24832     \n",
      "_________________________________________________________________\n",
      "dropout_12 (Dropout)         (None, 64)                0         \n",
      "_________________________________________________________________\n",
      "dense_7 (Dense)              (None, 6)                 390       \n",
      "=================================================================\n",
      "Total params: 30,598\n",
      "Trainable params: 30,598\n",
      "Non-trainable params: 0\n",
      "_________________________________________________________________\n"
     ]
    }
   ],
   "source": [
    "# Initiliazing the sequential model\n",
    "model = Sequential()\n",
    "# Configuring the parameters\n",
    "model.add(LSTM(n_hidden, return_sequences=True, input_shape=(timesteps, input_dim)))\n",
    "# Adding a dropout layer\n",
    "model.add(Dropout(0.3))\n",
    "# Configuring the parameters\n",
    "model.add(LSTM(64, input_shape=(timesteps, input_dim)))\n",
    "# Adding a dropout layer\n",
    "model.add(Dropout(0.3))\n",
    "# Adding a dense output layer with sigmoid activation\n",
    "model.add(Dense(n_classes, activation='sigmoid'))\n",
    "model.summary()"
   ]
  },
  {
   "cell_type": "code",
   "execution_count": 67,
   "metadata": {
    "collapsed": true
   },
   "outputs": [],
   "source": [
    "# Compiling the model\n",
    "model.compile(loss='categorical_crossentropy',\n",
    "              optimizer='rmsprop',\n",
    "              metrics=['accuracy'])"
   ]
  },
  {
   "cell_type": "code",
   "execution_count": 68,
   "metadata": {
    "collapsed": false,
    "scrolled": true
   },
   "outputs": [
    {
     "name": "stdout",
     "output_type": "stream",
     "text": [
      "Train on 7352 samples, validate on 2947 samples\n",
      "Epoch 1/30\n",
      "7352/7352 [==============================] - 95s 13ms/step - loss: 1.0129 - acc: 0.5539 - val_loss: 0.8788 - val_acc: 0.6332\n",
      "Epoch 2/30\n",
      "7352/7352 [==============================] - 92s 12ms/step - loss: 0.6742 - acc: 0.6718 - val_loss: 0.9047 - val_acc: 0.6688\n",
      "Epoch 3/30\n",
      "7352/7352 [==============================] - 94s 13ms/step - loss: 0.5041 - acc: 0.8041 - val_loss: 0.7184 - val_acc: 0.7906\n",
      "Epoch 4/30\n",
      "7352/7352 [==============================] - 94s 13ms/step - loss: 0.3471 - acc: 0.8819 - val_loss: 0.5927 - val_acc: 0.8388\n",
      "Epoch 5/30\n",
      "7352/7352 [==============================] - 91s 12ms/step - loss: 0.2545 - acc: 0.9115 - val_loss: 0.4560 - val_acc: 0.8626\n",
      "Epoch 6/30\n",
      "7352/7352 [==============================] - 96s 13ms/step - loss: 0.2148 - acc: 0.9206 - val_loss: 0.4704 - val_acc: 0.8778\n",
      "Epoch 7/30\n",
      "7352/7352 [==============================] - 98s 13ms/step - loss: 0.1837 - acc: 0.9276 - val_loss: 0.5517 - val_acc: 0.8612\n",
      "Epoch 8/30\n",
      "7352/7352 [==============================] - 93s 13ms/step - loss: 0.1647 - acc: 0.9407 - val_loss: 0.4644 - val_acc: 0.8890\n",
      "Epoch 9/30\n",
      "7352/7352 [==============================] - 101s 14ms/step - loss: 0.1518 - acc: 0.9460 - val_loss: 0.4999 - val_acc: 0.8816\n",
      "Epoch 10/30\n",
      "7352/7352 [==============================] - 92s 12ms/step - loss: 0.1459 - acc: 0.9434 - val_loss: 0.5011 - val_acc: 0.9019\n",
      "Epoch 11/30\n",
      "7352/7352 [==============================] - 110s 15ms/step - loss: 0.1448 - acc: 0.9467 - val_loss: 0.4332 - val_acc: 0.9009\n",
      "Epoch 12/30\n",
      "7352/7352 [==============================] - 95s 13ms/step - loss: 0.1368 - acc: 0.9463 - val_loss: 0.4563 - val_acc: 0.9080\n",
      "Epoch 13/30\n",
      "7352/7352 [==============================] - 104s 14ms/step - loss: 0.1367 - acc: 0.9480 - val_loss: 0.4771 - val_acc: 0.8941\n",
      "Epoch 14/30\n",
      "7352/7352 [==============================] - 97s 13ms/step - loss: 0.1380 - acc: 0.9453 - val_loss: 0.4041 - val_acc: 0.8979\n",
      "Epoch 15/30\n",
      "7352/7352 [==============================] - 94s 13ms/step - loss: 0.1402 - acc: 0.9494 - val_loss: 0.5143 - val_acc: 0.8951\n",
      "Epoch 16/30\n",
      "7352/7352 [==============================] - 91s 12ms/step - loss: 0.1181 - acc: 0.9506 - val_loss: 0.5735 - val_acc: 0.8945\n",
      "Epoch 17/30\n",
      "7352/7352 [==============================] - 93s 13ms/step - loss: 0.1271 - acc: 0.9524 - val_loss: 0.5102 - val_acc: 0.8982\n",
      "Epoch 18/30\n",
      "7352/7352 [==============================] - 92s 13ms/step - loss: 0.1305 - acc: 0.9505 - val_loss: 0.4360 - val_acc: 0.8955\n",
      "Epoch 19/30\n",
      "7352/7352 [==============================] - 98s 13ms/step - loss: 0.1249 - acc: 0.9495 - val_loss: 0.3640 - val_acc: 0.8992\n",
      "Epoch 20/30\n",
      "7352/7352 [==============================] - 106s 14ms/step - loss: 0.1314 - acc: 0.9532 - val_loss: 0.3775 - val_acc: 0.8996\n",
      "Epoch 21/30\n",
      "7352/7352 [==============================] - 106s 14ms/step - loss: 0.1207 - acc: 0.9502 - val_loss: 0.4928 - val_acc: 0.8911\n",
      "Epoch 22/30\n",
      "7352/7352 [==============================] - 98s 13ms/step - loss: 0.1383 - acc: 0.9482 - val_loss: 0.4306 - val_acc: 0.8965\n",
      "Epoch 23/30\n",
      "7352/7352 [==============================] - 96s 13ms/step - loss: 0.1262 - acc: 0.9513 - val_loss: 0.4721 - val_acc: 0.9002\n",
      "Epoch 24/30\n",
      "7352/7352 [==============================] - 94s 13ms/step - loss: 0.1351 - acc: 0.9512 - val_loss: 0.3492 - val_acc: 0.8979\n",
      "Epoch 25/30\n",
      "7352/7352 [==============================] - 99s 13ms/step - loss: 0.1190 - acc: 0.9505 - val_loss: 0.3102 - val_acc: 0.9169\n",
      "Epoch 26/30\n",
      "7352/7352 [==============================] - 95s 13ms/step - loss: 0.1257 - acc: 0.9527 - val_loss: 0.4899 - val_acc: 0.9030\n",
      "Epoch 27/30\n",
      "7352/7352 [==============================] - 95s 13ms/step - loss: 0.1180 - acc: 0.9516 - val_loss: 0.3624 - val_acc: 0.8935\n",
      "Epoch 28/30\n",
      "7352/7352 [==============================] - 114s 15ms/step - loss: 0.1341 - acc: 0.9483 - val_loss: 0.3525 - val_acc: 0.9026\n",
      "Epoch 29/30\n",
      "7352/7352 [==============================] - 100s 14ms/step - loss: 0.1160 - acc: 0.9553 - val_loss: 0.4973 - val_acc: 0.9192\n",
      "Epoch 30/30\n",
      "7352/7352 [==============================] - 111s 15ms/step - loss: 0.1183 - acc: 0.9527 - val_loss: 0.5763 - val_acc: 0.8992\n"
     ]
    },
    {
     "data": {
      "text/plain": [
       "<keras.callbacks.History at 0x2461e696ac8>"
      ]
     },
     "execution_count": 68,
     "metadata": {},
     "output_type": "execute_result"
    }
   ],
   "source": [
    "# Training the model\n",
    "model.fit(X_train,\n",
    "          Y_train,\n",
    "          batch_size=batch_size,\n",
    "          validation_data=(X_test, Y_test),\n",
    "          epochs=epochs)"
   ]
  },
  {
   "cell_type": "code",
   "execution_count": 69,
   "metadata": {
    "collapsed": false
   },
   "outputs": [
    {
     "name": "stdout",
     "output_type": "stream",
     "text": [
      "Pred                LAYING  SITTING  STANDING  WALKING  WALKING_DOWNSTAIRS  \\\n",
      "True                                                                         \n",
      "LAYING                 509        1         0        0                   0   \n",
      "SITTING                  2      415        68        1                   4   \n",
      "STANDING                 0      113       419        0                   0   \n",
      "WALKING                  0        0         0      445                  48   \n",
      "WALKING_DOWNSTAIRS       0        0         0        0                 418   \n",
      "WALKING_UPSTAIRS         0        2         0        3                  22   \n",
      "\n",
      "Pred                WALKING_UPSTAIRS  \n",
      "True                                  \n",
      "LAYING                            27  \n",
      "SITTING                            1  \n",
      "STANDING                           0  \n",
      "WALKING                            3  \n",
      "WALKING_DOWNSTAIRS                 2  \n",
      "WALKING_UPSTAIRS                 444  \n"
     ]
    }
   ],
   "source": [
    "# Confusion Matrix\n",
    "print(confusion_matrix(Y_test, model.predict(X_test)))"
   ]
  },
  {
   "cell_type": "code",
   "execution_count": 70,
   "metadata": {
    "collapsed": false
   },
   "outputs": [
    {
     "name": "stdout",
     "output_type": "stream",
     "text": [
      "2947/2947 [==============================] - 4s 1ms/step\n"
     ]
    }
   ],
   "source": [
    "score = model.evaluate(X_test, Y_test)"
   ]
  },
  {
   "cell_type": "code",
   "execution_count": 71,
   "metadata": {
    "collapsed": false
   },
   "outputs": [
    {
     "data": {
      "text/plain": [
       "[0.5762635302961742, 0.8992195453003053]"
      ]
     },
     "execution_count": 71,
     "metadata": {},
     "output_type": "execute_result"
    }
   ],
   "source": [
    "score"
   ]
  },
  {
   "cell_type": "code",
   "execution_count": null,
   "metadata": {
    "collapsed": true
   },
   "outputs": [],
   "source": []
  }
 ],
 "metadata": {
  "anaconda-cloud": {},
  "kernelspec": {
   "display_name": "Python [default]",
   "language": "python",
   "name": "python3"
  },
  "language_info": {
   "codemirror_mode": {
    "name": "ipython",
    "version": 3
   },
   "file_extension": ".py",
   "mimetype": "text/x-python",
   "name": "python",
   "nbconvert_exporter": "python",
   "pygments_lexer": "ipython3",
   "version": "3.5.2"
  }
 },
 "nbformat": 4,
 "nbformat_minor": 2
}
